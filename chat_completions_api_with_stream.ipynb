{
 "cells": [
  {
   "cell_type": "markdown",
   "id": "ad36df2a-2e5a-42ff-9d96-1082b2a76cad",
   "metadata": {},
   "source": [
    "# My Personal Notes For Learning ChatGPT API\n",
    "### https://github.com/mmrzax"
   ]
  },
  {
   "cell_type": "code",
   "execution_count": null,
   "id": "a66a777f-e896-4f32-94b3-a19124766d8f",
   "metadata": {},
   "outputs": [],
   "source": [
    "import os\n",
    "import openai\n",
    "import requests\n",
    "import json"
   ]
  },
  {
   "cell_type": "code",
   "execution_count": null,
   "id": "25a82447-1e03-48d6-b921-86632ada77d7",
   "metadata": {},
   "outputs": [],
   "source": [
    "# get openai api key from enviroment\n",
    "openai.api_key = os.getenv(\"OPENAI_API_KEY\")\n",
    "# print(openai.api_key)"
   ]
  },
  {
   "cell_type": "code",
   "execution_count": null,
   "id": "9de42f32-9b7c-472e-a2b0-e21d7f5908d5",
   "metadata": {},
   "outputs": [],
   "source": [
    "def get_current_weather(location: str, unit: str = \"celcius\"):\n",
    "    units: dict[str, str] = {\"celsius\": \"m\", \"fahrenheit\": \"u\"}\n",
    "    # r = requests.get(f\"https://wttr.in/{location}?{units.get(unit)}&format=3\")\n",
    "    r = requests.get(f\"https://wttr.in/{location}?{units.get(unit)}&format=4\")\n",
    "    return r.text\n",
    "print(get_current_weather(\"BandarAbbas\"))"
   ]
  },
  {
   "cell_type": "code",
   "execution_count": null,
   "id": "81f7906e-5548-4f2a-a3de-5ac45eafc097",
   "metadata": {},
   "outputs": [],
   "source": [
    "def chatgpt():\n",
    "    # Step 1: send the conversation and available functions to GPT\n",
    "    messages = [{\"role\": \"user\", \"content\": \"آب و هوای شهر بندرعباس هم اکنون چگونه است؟\"}]\n",
    "    functions = [\n",
    "        {\n",
    "            \"name\": \"get_current_weather\",\n",
    "            \"description\": \"آب و هوا کنونی را برای مکان داده شده دریافت کن\",\n",
    "            \"parameters\": {\n",
    "                \"type\": \"object\",\n",
    "                \"properties\": {\n",
    "                    \"location\": {\n",
    "                        \"type\": \"string\",\n",
    "                        \"description\": \"نام مکان به زبان انگلیسی، برای مثال Tehran\",\n",
    "                    },\n",
    "                    \"unit\": {\"type\": \"string\", \"enum\": [\"celsius\", \"fahrenheit\"]},\n",
    "                },\n",
    "                \"required\": [\"location\"],\n",
    "            },\n",
    "        }\n",
    "    ]\n",
    "    response = openai.ChatCompletion.create(\n",
    "        model=\"gpt-3.5-turbo-0613\",\n",
    "        messages=messages,\n",
    "        functions=functions,\n",
    "        function_call=\"auto\",  # auto is default, but we'll be explicit\n",
    "    )\n",
    "    response_message = response[\"choices\"][0][\"message\"]\n",
    "\n",
    "    # Step 2: check if GPT wanted to call a function\n",
    "    if response_message.get(\"function_call\"):\n",
    "        # Step 3: call the function\n",
    "        # Note: the JSON response may not always be valid; be sure to handle errors\n",
    "        available_functions = {\n",
    "            \"get_current_weather\": get_current_weather,\n",
    "        }  # only one function in this example, but you can have multiple\n",
    "        function_name = response_message[\"function_call\"][\"name\"]\n",
    "        function_to_call = available_functions[function_name]\n",
    "        function_args = json.loads(response_message[\"function_call\"][\"arguments\"])\n",
    "        function_response = function_to_call(\n",
    "            location=function_args.get(\"location\"),\n",
    "            unit=function_args.get(\"unit\"),\n",
    "        )\n",
    "\n",
    "        # Step 4: send the info on the function call and function response to GPT\n",
    "        messages.append(response_message)  # extend conversation with assistant's reply\n",
    "        messages.append(\n",
    "            {\n",
    "                \"role\": \"function\",\n",
    "                \"name\": function_name,\n",
    "                \"content\": function_response,\n",
    "            }\n",
    "        )  # extend conversation with function response\n",
    "        \n",
    "        res = openai.ChatCompletion.create(\n",
    "            model=\"gpt-3.5-turbo-0613\",\n",
    "            messages=messages,\n",
    "            stream=True,\n",
    "        )  # get a new response from GPT where it can see the function response\n",
    "        return res\n",
    "\n",
    "r = chatgpt()\n",
    "chunks_of_response = []\n",
    "msgs = []\n",
    "for chunk in r:\n",
    "    chunks_of_response.append(chunk)  # save the event response\n",
    "    chunk_message = chunk['choices'][0]['delta']  # extract the message\n",
    "    msgs.append(chunk_message)  # save the message\n",
    "    print(chunk_message.get(\"content\", \"\"), end=\"\")"
   ]
  },
  {
   "cell_type": "code",
   "execution_count": null,
   "id": "727bcfe8-30a7-4b6a-9e4a-41782a4319df",
   "metadata": {},
   "outputs": [],
   "source": [
    "full_reply_content = ''.join([m.get('content', '') for m in msgs])\n",
    "print(full_reply_content)"
   ]
  },
  {
   "cell_type": "code",
   "execution_count": null,
   "id": "d6596a60-f079-48fa-8ce4-6053aa0db465",
   "metadata": {},
   "outputs": [],
   "source": [
    "rr = openai.ChatCompletion.create(\n",
    "    model=\"gpt-3.5-turbo\",\n",
    "    messages=[\n",
    "        {\"role\": \"user\", \"content\": \"فصل آخر attack on titan چه شد؟\"}\n",
    "    ],\n",
    "    stream=True,\n",
    ")\n",
    "for chunk in rr:\n",
    "    chunks_of_response.append(chunk)  # save the event response\n",
    "    chunk_message = chunk['choices'][0]['delta']  # extract the message\n",
    "    msgs.append(chunk_message)  # save the message\n",
    "    print(chunk_message.get(\"content\", \"\"), end=\"\")"
   ]
  }
 ],
 "metadata": {
  "kernelspec": {
   "display_name": "Python 3 (ipykernel)",
   "language": "python",
   "name": "python3"
  },
  "language_info": {
   "codemirror_mode": {
    "name": "ipython",
    "version": 3
   },
   "file_extension": ".py",
   "mimetype": "text/x-python",
   "name": "python",
   "nbconvert_exporter": "python",
   "pygments_lexer": "ipython3",
   "version": "3.11.5"
  }
 },
 "nbformat": 4,
 "nbformat_minor": 5
}
