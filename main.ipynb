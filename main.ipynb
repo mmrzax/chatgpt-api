{
 "cells": [
  {
   "cell_type": "markdown",
   "id": "b6c109a9-b5ce-41d7-b82d-9352758630af",
   "metadata": {},
   "source": [
    "# My Personal Notes For Learning ChatGPT API\n",
    "### https://github.com/mmrzax"
   ]
  },
  {
   "cell_type": "code",
   "execution_count": 1,
   "id": "a66a777f-e896-4f32-94b3-a19124766d8f",
   "metadata": {},
   "outputs": [],
   "source": [
    "import os\n",
    "import openai"
   ]
  },
  {
   "cell_type": "code",
   "execution_count": 2,
   "id": "25a82447-1e03-48d6-b921-86632ada77d7",
   "metadata": {},
   "outputs": [],
   "source": [
    "# get openai api key from enviroment\n",
    "openai.api_key = os.getenv(\"OPENAI_API_KEY\")\n",
    "# print(openai.api_key)"
   ]
  },
  {
   "cell_type": "markdown",
   "id": "700d5143-f708-4bfb-b03f-ddc298f50058",
   "metadata": {},
   "source": [
    "### Messages and Roles\n",
    "\n",
    "The main input is the messages parameter. Messages must be an array of message objects, where each object has a role (either \"system\", \"user\", or \"assistant\") and content. Conversations can be as short as one message or many back and forth turns.\n",
    "\n",
    "Typically, a conversation is formatted with a system message first, followed by alternating user and assistant messages.\n",
    "\n",
    "The system message helps set the behavior of the assistant. For example, you can modify the personality of the assistant or provide specific instructions about how it should behave throughout the conversation. However note that the system message is optional and the model’s behavior without a system message is likely to be similar to using a generic message such as \"You are a helpful assistant.\"\n",
    "\n",
    "The user messages provide requests or comments for the assistant to respond to. Assistant messages store previous assistant responses, but can also be written by you to give examples of desired behavior."
   ]
  },
  {
   "cell_type": "code",
   "execution_count": null,
   "id": "bca6b5b9-5a9d-4393-af7d-e8d2d786ea0f",
   "metadata": {},
   "outputs": [],
   "source": [
    "completion = openai.ChatCompletion.create(\n",
    "  model=\"gpt-3.5-turbo\",\n",
    "  messages=[\n",
    "    {\"role\": \"system\", \"content\": \"You are an engineer and assistant, skilled in control systems.\"},\n",
    "    {\"role\": \"user\", \"content\": \"In your opinion, what is the best part of industries that can be controlled by artificial intelligence?\"}\n",
    "  ]\n",
    ")"
   ]
  },
  {
   "cell_type": "code",
   "execution_count": 7,
   "id": "11dc1191-7c65-450f-af75-cc8a3bb85cb3",
   "metadata": {},
   "outputs": [],
   "source": [
    "response = openai.ChatCompletion.create(\n",
    "    model=\"gpt-3.5-turbo\",\n",
    "    messages=[\n",
    "        {\"role\": \"system\", \"content\": \"You are a helpful assistant.\"},\n",
    "        {\"role\": \"user\", \"content\": \"Who won the world series in 2020?\"},\n",
    "        {\"role\": \"assistant\", \"content\": \"The Los Angeles Dodgers won the World Series in 2020.\"},\n",
    "        {\"role\": \"user\", \"content\": \"Where was it played?\"}\n",
    "    ]\n",
    ")"
   ]
  },
  {
   "cell_type": "markdown",
   "id": "3782ddf0-85db-4e55-aea7-0fd6d06e6e63",
   "metadata": {},
   "source": [
    "**دلیل آوردن یک سری مکالمات قبل از پرامپت اصلی اینه که چت بات بتونه بفهمه اصلا منظور ما از سوال آخر یعنی بازیه کجا پلی شده کدوم بازی هست<br>در کل این تاریخچه چت خیلی مهمه و هر بار باید سیوش کرد و اگه به محدودیت سایز توکن رسیدیم باید از شکل کوتاه شده استفاده کنیم در این [لینک](https://platform.openai.com/docs/guides/gpt-best-practices/tactic-for-dialogue-applications-that-require-very-long-conversations-summarize-or-filter-previous-dialogue) توضیح داده شده**"
   ]
  },
  {
   "cell_type": "code",
   "execution_count": 8,
   "id": "64f9a87e-7829-4ec2-bb7f-7a33785f2ba1",
   "metadata": {},
   "outputs": [
    {
     "name": "stdout",
     "output_type": "stream",
     "text": [
      "{\n",
      "  \"id\": \"chatcmpl-8FpACRtihAJs1LH1wEBiRZ3vHHTQH\",\n",
      "  \"object\": \"chat.completion\",\n",
      "  \"created\": 1698782284,\n",
      "  \"model\": \"gpt-3.5-turbo-0613\",\n",
      "  \"choices\": [\n",
      "    {\n",
      "      \"index\": 0,\n",
      "      \"message\": {\n",
      "        \"role\": \"assistant\",\n",
      "        \"content\": \"The Los Angeles Dodgers won the World Series in 2020.\"\n",
      "      },\n",
      "      \"finish_reason\": \"stop\"\n",
      "    }\n",
      "  ],\n",
      "  \"usage\": {\n",
      "    \"prompt_tokens\": 27,\n",
      "    \"completion_tokens\": 13,\n",
      "    \"total_tokens\": 40\n",
      "  }\n",
      "}\n"
     ]
    }
   ],
   "source": [
    "print(response)"
   ]
  }
 ],
 "metadata": {
  "kernelspec": {
   "display_name": "Python 3 (ipykernel)",
   "language": "python",
   "name": "python3"
  },
  "language_info": {
   "codemirror_mode": {
    "name": "ipython",
    "version": 3
   },
   "file_extension": ".py",
   "mimetype": "text/x-python",
   "name": "python",
   "nbconvert_exporter": "python",
   "pygments_lexer": "ipython3",
   "version": "3.11.5"
  }
 },
 "nbformat": 4,
 "nbformat_minor": 5
}
